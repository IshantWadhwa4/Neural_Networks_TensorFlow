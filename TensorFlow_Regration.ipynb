{
  "nbformat": 4,
  "nbformat_minor": 0,
  "metadata": {
    "colab": {
      "name": "TensorFlow_Regration.ipynb",
      "provenance": [],
      "collapsed_sections": [],
      "authorship_tag": "ABX9TyMmzxWHOIQ5GaSLwDbhv5q1",
      "include_colab_link": true
    },
    "kernelspec": {
      "name": "python3",
      "display_name": "Python 3"
    }
  },
  "cells": [
    {
      "cell_type": "markdown",
      "metadata": {
        "id": "view-in-github",
        "colab_type": "text"
      },
      "source": [
        "<a href=\"https://colab.research.google.com/github/IshantWadhwa4/Neural_Networks_TensorFlow/blob/master/TensorFlow_Regration.ipynb\" target=\"_parent\"><img src=\"https://colab.research.google.com/assets/colab-badge.svg\" alt=\"Open In Colab\"/></a>"
      ]
    },
    {
      "cell_type": "code",
      "metadata": {
        "id": "3dXyjxese-Yx",
        "colab_type": "code",
        "colab": {}
      },
      "source": [
        "import numpy as np\n",
        "import pandas as pd"
      ],
      "execution_count": 0,
      "outputs": []
    },
    {
      "cell_type": "code",
      "metadata": {
        "id": "2p54MeqgfMIG",
        "colab_type": "code",
        "colab": {}
      },
      "source": [
        "%tensorflow_version 2.x \n",
        "import tensorflow as tf"
      ],
      "execution_count": 0,
      "outputs": []
    },
    {
      "cell_type": "code",
      "metadata": {
        "id": "69PX_6vUfVfR",
        "colab_type": "code",
        "colab": {}
      },
      "source": [
        "data_train = pd.read_csv(filepath_or_buffer='https://storage.googleapis.com/tf-datasets/titanic/train.csv')\n",
        "data_test = pd.read_csv(filepath_or_buffer='https://storage.googleapis.com/tf-datasets/titanic/eval.csv')"
      ],
      "execution_count": 0,
      "outputs": []
    },
    {
      "cell_type": "code",
      "metadata": {
        "id": "njx2qWJFkdZH",
        "colab_type": "code",
        "colab": {}
      },
      "source": [
        "data_train_X = data_train.drop('survived',axis=1)\n",
        "data_train_y = data_train['survived']"
      ],
      "execution_count": 0,
      "outputs": []
    },
    {
      "cell_type": "code",
      "metadata": {
        "id": "S6mA-Tg2kfIC",
        "colab_type": "code",
        "colab": {}
      },
      "source": [
        "data_test_x = data_test.drop('survived',axis=1)\n",
        "data_test_y = data_test['survived'] "
      ],
      "execution_count": 0,
      "outputs": []
    },
    {
      "cell_type": "code",
      "metadata": {
        "id": "yjd_AkMCRAhw",
        "colab_type": "code",
        "outputId": "9603c7dd-8b5f-4941-b6c6-5bedc351e5ae",
        "colab": {
          "base_uri": "https://localhost:8080/",
          "height": 35
        }
      },
      "source": [
        "data_test_y.shape"
      ],
      "execution_count": 0,
      "outputs": [
        {
          "output_type": "execute_result",
          "data": {
            "text/plain": [
              "(264,)"
            ]
          },
          "metadata": {
            "tags": []
          },
          "execution_count": 42
        }
      ]
    },
    {
      "cell_type": "code",
      "metadata": {
        "id": "tLeHc4DvktSt",
        "colab_type": "code",
        "colab": {}
      },
      "source": [
        "def get_numeric_data_columns(df):\n",
        "  '''\n",
        "      return list of all numeric data columns name\n",
        "  '''\n",
        "  return list(df._get_numeric_data().columns)\n",
        "\n",
        "\n",
        "def get_catagorical_data_columns(df):\n",
        "  '''\n",
        "      return list of all catagoric data columns name\n",
        "  '''\n",
        "  return list(set(df.columns) - set(df._get_numeric_data().columns))"
      ],
      "execution_count": 0,
      "outputs": []
    },
    {
      "cell_type": "code",
      "metadata": {
        "id": "cF0jM6ReNXGL",
        "colab_type": "code",
        "colab": {}
      },
      "source": [
        "numeric_columns = get_numeric_data_columns(data_train_X)\n",
        "catagorical_columns = get_catagorical_data_columns(data_train_X)"
      ],
      "execution_count": 0,
      "outputs": []
    },
    {
      "cell_type": "code",
      "metadata": {
        "id": "IH5Rgf5eNrpP",
        "colab_type": "code",
        "outputId": "0990ae37-62e0-4572-9176-a36991c4f731",
        "colab": {
          "base_uri": "https://localhost:8080/",
          "height": 35
        }
      },
      "source": [
        "numeric_columns"
      ],
      "execution_count": 0,
      "outputs": [
        {
          "output_type": "execute_result",
          "data": {
            "text/plain": [
              "['age', 'n_siblings_spouses', 'parch', 'fare']"
            ]
          },
          "metadata": {
            "tags": []
          },
          "execution_count": 8
        }
      ]
    },
    {
      "cell_type": "code",
      "metadata": {
        "id": "feCL5614NxJU",
        "colab_type": "code",
        "outputId": "fc40a943-769a-4795-c926-bf41d73fe699",
        "colab": {
          "base_uri": "https://localhost:8080/",
          "height": 35
        }
      },
      "source": [
        "catagorical_columns"
      ],
      "execution_count": 0,
      "outputs": [
        {
          "output_type": "execute_result",
          "data": {
            "text/plain": [
              "['alone', 'sex', 'embark_town', 'deck', 'class']"
            ]
          },
          "metadata": {
            "tags": []
          },
          "execution_count": 9
        }
      ]
    },
    {
      "cell_type": "code",
      "metadata": {
        "id": "bKRaGWlGN0fX",
        "colab_type": "code",
        "colab": {}
      },
      "source": [
        "# now we will create a feature column which has complete information about features\n",
        "features_columns = []\n",
        "for col in catagorical_columns:\n",
        "  unique_variables = data_train_X[col].unique()\n",
        "  features_columns.append(tf.feature_column.categorical_column_with_vocabulary_list(col,unique_variables))\n",
        "\n",
        "for feature_name in numeric_columns:\n",
        "  features_columns.append(tf.feature_column.numeric_column(feature_name, dtype=tf.float32))\n",
        "\n",
        "  "
      ],
      "execution_count": 0,
      "outputs": []
    },
    {
      "cell_type": "code",
      "metadata": {
        "id": "rN48lWNL8-0f",
        "colab_type": "code",
        "colab": {}
      },
      "source": [
        "tf_df = tf.data.Dataset.from_tensor_slices((dict(data_train_X),data_train_y))"
      ],
      "execution_count": 0,
      "outputs": []
    },
    {
      "cell_type": "code",
      "metadata": {
        "id": "eIwLToGb8-3_",
        "colab_type": "code",
        "outputId": "555ea10f-2726-4c14-f73c-f8f725fd73cb",
        "colab": {
          "base_uri": "https://localhost:8080/",
          "height": 55
        }
      },
      "source": [
        "tf_df.batch(32).repeat(100)"
      ],
      "execution_count": 0,
      "outputs": [
        {
          "output_type": "stream",
          "text": [
            "<RepeatDataset shapes: ({sex: (None,), age: (None,), n_siblings_spouses: (None,), parch: (None,), fare: (None,), class: (None,), deck: (None,), embark_town: (None,), alone: (None,)}, (None,)), types: ({sex: tf.string, age: tf.float64, n_siblings_spouses: tf.int64, parch: tf.int64, fare: tf.float64, class: tf.string, deck: tf.string, embark_town: tf.string, alone: tf.string}, tf.int64)>\n"
          ],
          "name": "stdout"
        }
      ]
    },
    {
      "cell_type": "code",
      "metadata": {
        "id": "JpcfzfuSv1qv",
        "colab_type": "code",
        "outputId": "c47425d6-e9a0-4082-cc44-2641c4d06a7a",
        "colab": {
          "base_uri": "https://localhost:8080/",
          "height": 35
        }
      },
      "source": [
        "data_train_X.shape"
      ],
      "execution_count": 0,
      "outputs": [
        {
          "output_type": "execute_result",
          "data": {
            "text/plain": [
              "(627, 9)"
            ]
          },
          "metadata": {
            "tags": []
          },
          "execution_count": 18
        }
      ]
    },
    {
      "cell_type": "code",
      "metadata": {
        "id": "EgTMadN8JW9N",
        "colab_type": "code",
        "colab": {}
      },
      "source": [
        "# This function will convert pandas df to Tensor flow data frame for model traning\n",
        "# data_df_x, --> Features Data frame\n",
        "#label_df_y, --> Target variable data frame\n",
        "#epochs --> How many time model should be feeded with same data for better understanding (more epochs overfit)\n",
        "#shuffle=True --> shuffle the data every time\n",
        "#batch_size=32 --> number of rows we input in single batch it is used when data size is large\n",
        "def convert_pandasDF_to_tfDF(data_df_x,label_df_y,epochs=10,shuffle=True,batch_size=32):\n",
        "  def tfdf_function():\n",
        "    tf_df = tf.data.Dataset.from_tensor_slices((dict(data_df_x),label_df_y))\n",
        "    if shuffle:\n",
        "      tf_df.shuffle(1000)\n",
        "    tf_df = tf_df.batch(batch_size=batch_size).repeat(epochs)\n",
        "    return tf_df\n",
        "  return tfdf_function \n",
        "\n",
        "train_input_fn = convert_pandasDF_to_tfDF(data_train_X,data_train_y)\n",
        "test_input_fn = convert_pandasDF_to_tfDF(data_test_x,data_test_y,1,False)"
      ],
      "execution_count": 0,
      "outputs": []
    },
    {
      "cell_type": "code",
      "metadata": {
        "id": "eMqTlA9fCbML",
        "colab_type": "code",
        "outputId": "3b7bde33-f98a-4d07-c0f3-5297476b5dd9",
        "colab": {
          "base_uri": "https://localhost:8080/",
          "height": 201
        }
      },
      "source": [
        "## Create model\n",
        "linear_model = tf.estimator.LinearClassifier(feature_columns = features_columns) "
      ],
      "execution_count": 0,
      "outputs": [
        {
          "output_type": "stream",
          "text": [
            "INFO:tensorflow:Using default config.\n",
            "WARNING:tensorflow:Using temporary folder as model directory: /tmp/tmp1gt76ah8\n",
            "INFO:tensorflow:Using config: {'_model_dir': '/tmp/tmp1gt76ah8', '_tf_random_seed': None, '_save_summary_steps': 100, '_save_checkpoints_steps': None, '_save_checkpoints_secs': 600, '_session_config': allow_soft_placement: true\n",
            "graph_options {\n",
            "  rewrite_options {\n",
            "    meta_optimizer_iterations: ONE\n",
            "  }\n",
            "}\n",
            ", '_keep_checkpoint_max': 5, '_keep_checkpoint_every_n_hours': 10000, '_log_step_count_steps': 100, '_train_distribute': None, '_device_fn': None, '_protocol': None, '_eval_distribute': None, '_experimental_distribute': None, '_experimental_max_worker_delay_secs': None, '_session_creation_timeout_secs': 7200, '_service': None, '_cluster_spec': ClusterSpec({}), '_task_type': 'worker', '_task_id': 0, '_global_id_in_cluster': 0, '_master': '', '_evaluation_master': '', '_is_chief': True, '_num_ps_replicas': 0, '_num_worker_replicas': 1}\n"
          ],
          "name": "stdout"
        }
      ]
    },
    {
      "cell_type": "code",
      "metadata": {
        "id": "IAPVrwnzG7Cs",
        "colab_type": "code",
        "outputId": "2046d101-33e9-48ca-ecab-20b8a56aae14",
        "colab": {
          "base_uri": "https://localhost:8080/",
          "height": 674
        }
      },
      "source": [
        "linear_model.train(train_input_fn)"
      ],
      "execution_count": 0,
      "outputs": [
        {
          "output_type": "stream",
          "text": [
            "WARNING:tensorflow:From /usr/local/lib/python3.6/dist-packages/tensorflow/python/ops/resource_variable_ops.py:1666: calling BaseResourceVariable.__init__ (from tensorflow.python.ops.resource_variable_ops) with constraint is deprecated and will be removed in a future version.\n",
            "Instructions for updating:\n",
            "If using Keras pass *_constraint arguments to layers.\n",
            "WARNING:tensorflow:From /usr/local/lib/python3.6/dist-packages/tensorflow/python/training/training_util.py:236: Variable.initialized_value (from tensorflow.python.ops.variables) is deprecated and will be removed in a future version.\n",
            "Instructions for updating:\n",
            "Use Variable.read_value. Variables in 2.X are initialized automatically both in eager and graph (inside tf.defun) contexts.\n",
            "INFO:tensorflow:Calling model_fn.\n",
            "WARNING:tensorflow:Layer linear/linear_model is casting an input tensor from dtype float64 to the layer's dtype of float32, which is new behavior in TensorFlow 2.  The layer has dtype float32 because it's dtype defaults to floatx.\n",
            "\n",
            "If you intended to run this layer in float32, you can safely ignore this warning. If in doubt, this warning is likely only an issue if you are porting a TensorFlow 1.X model to TensorFlow 2.\n",
            "\n",
            "To change all layers to have dtype float64 by default, call `tf.keras.backend.set_floatx('float64')`. To change just this layer, pass dtype='float64' to the layer constructor. If you are the author of this layer, you can disable autocasting by passing autocast=False to the base Layer constructor.\n",
            "\n",
            "WARNING:tensorflow:From /usr/local/lib/python3.6/dist-packages/tensorflow/python/feature_column/feature_column_v2.py:540: Layer.add_variable (from tensorflow.python.keras.engine.base_layer_v1) is deprecated and will be removed in a future version.\n",
            "Instructions for updating:\n",
            "Please use `layer.add_weight` method instead.\n",
            "WARNING:tensorflow:From /usr/local/lib/python3.6/dist-packages/tensorflow/python/keras/optimizer_v2/ftrl.py:144: calling Constant.__init__ (from tensorflow.python.ops.init_ops) with dtype is deprecated and will be removed in a future version.\n",
            "Instructions for updating:\n",
            "Call initializer instance with the dtype argument instead of passing it to the constructor\n",
            "INFO:tensorflow:Done calling model_fn.\n",
            "INFO:tensorflow:Create CheckpointSaverHook.\n",
            "INFO:tensorflow:Graph was finalized.\n",
            "INFO:tensorflow:Running local_init_op.\n",
            "INFO:tensorflow:Done running local_init_op.\n",
            "INFO:tensorflow:Calling checkpoint listeners before saving checkpoint 0...\n",
            "INFO:tensorflow:Saving checkpoints for 0 into /tmp/tmp1gt76ah8/model.ckpt.\n",
            "INFO:tensorflow:Calling checkpoint listeners after saving checkpoint 0...\n",
            "INFO:tensorflow:loss = 0.6931472, step = 0\n",
            "INFO:tensorflow:global_step/sec: 343.963\n",
            "INFO:tensorflow:loss = 0.5111773, step = 100 (0.292 sec)\n",
            "INFO:tensorflow:Calling checkpoint listeners before saving checkpoint 200...\n",
            "INFO:tensorflow:Saving checkpoints for 200 into /tmp/tmp1gt76ah8/model.ckpt.\n",
            "INFO:tensorflow:Calling checkpoint listeners after saving checkpoint 200...\n",
            "INFO:tensorflow:Loss for final step: 0.34793538.\n"
          ],
          "name": "stdout"
        },
        {
          "output_type": "execute_result",
          "data": {
            "text/plain": [
              "<tensorflow_estimator.python.estimator.canned.linear.LinearClassifierV2 at 0x7f9fbe10a6d8>"
            ]
          },
          "metadata": {
            "tags": []
          },
          "execution_count": 23
        }
      ]
    },
    {
      "cell_type": "code",
      "metadata": {
        "id": "57WlYIY_HXNg",
        "colab_type": "code",
        "outputId": "476cdb79-4041-4976-c5ed-d00ea829b6a9",
        "colab": {
          "base_uri": "https://localhost:8080/",
          "height": 346
        }
      },
      "source": [
        "result = linear_model.evaluate(test_input_fn)"
      ],
      "execution_count": 0,
      "outputs": [
        {
          "output_type": "stream",
          "text": [
            "INFO:tensorflow:Calling model_fn.\n",
            "WARNING:tensorflow:Layer linear/linear_model is casting an input tensor from dtype float64 to the layer's dtype of float32, which is new behavior in TensorFlow 2.  The layer has dtype float32 because it's dtype defaults to floatx.\n",
            "\n",
            "If you intended to run this layer in float32, you can safely ignore this warning. If in doubt, this warning is likely only an issue if you are porting a TensorFlow 1.X model to TensorFlow 2.\n",
            "\n",
            "To change all layers to have dtype float64 by default, call `tf.keras.backend.set_floatx('float64')`. To change just this layer, pass dtype='float64' to the layer constructor. If you are the author of this layer, you can disable autocasting by passing autocast=False to the base Layer constructor.\n",
            "\n",
            "INFO:tensorflow:Done calling model_fn.\n",
            "INFO:tensorflow:Starting evaluation at 2020-05-06T04:36:53Z\n",
            "INFO:tensorflow:Graph was finalized.\n",
            "INFO:tensorflow:Restoring parameters from /tmp/tmp1gt76ah8/model.ckpt-200\n",
            "INFO:tensorflow:Running local_init_op.\n",
            "INFO:tensorflow:Done running local_init_op.\n",
            "INFO:tensorflow:Inference Time : 0.71983s\n",
            "INFO:tensorflow:Finished evaluation at 2020-05-06-04:36:54\n",
            "INFO:tensorflow:Saving dict for global step 200: accuracy = 0.7651515, accuracy_baseline = 0.625, auc = 0.83966947, auc_precision_recall = 0.7873041, average_loss = 0.47249624, global_step = 200, label/mean = 0.375, loss = 0.45887482, precision = 0.69473684, prediction/mean = 0.35994655, recall = 0.6666667\n",
            "INFO:tensorflow:Saving 'checkpoint_path' summary for global step 200: /tmp/tmp1gt76ah8/model.ckpt-200\n"
          ],
          "name": "stdout"
        }
      ]
    },
    {
      "cell_type": "code",
      "metadata": {
        "id": "4Jv-2TlAHkHd",
        "colab_type": "code",
        "outputId": "7006c98e-d1bf-4002-dd59-228a4806cd31",
        "colab": {
          "base_uri": "https://localhost:8080/",
          "height": 217
        }
      },
      "source": [
        "result"
      ],
      "execution_count": 0,
      "outputs": [
        {
          "output_type": "execute_result",
          "data": {
            "text/plain": [
              "{'accuracy': 0.7651515,\n",
              " 'accuracy_baseline': 0.625,\n",
              " 'auc': 0.83966947,\n",
              " 'auc_precision_recall': 0.7873041,\n",
              " 'average_loss': 0.47249624,\n",
              " 'global_step': 200,\n",
              " 'label/mean': 0.375,\n",
              " 'loss': 0.45887482,\n",
              " 'precision': 0.69473684,\n",
              " 'prediction/mean': 0.35994655,\n",
              " 'recall': 0.6666667}"
            ]
          },
          "metadata": {
            "tags": []
          },
          "execution_count": 44
        }
      ]
    },
    {
      "cell_type": "code",
      "metadata": {
        "id": "sL-Xd5MaOO2J",
        "colab_type": "code",
        "outputId": "e3c46d90-6414-4508-9be6-984e159fb704",
        "colab": {
          "base_uri": "https://localhost:8080/",
          "height": 255
        }
      },
      "source": [
        "result = list(linear_model.predict(test_input_fn))"
      ],
      "execution_count": 0,
      "outputs": [
        {
          "output_type": "stream",
          "text": [
            "INFO:tensorflow:Calling model_fn.\n",
            "WARNING:tensorflow:Layer linear/linear_model is casting an input tensor from dtype float64 to the layer's dtype of float32, which is new behavior in TensorFlow 2.  The layer has dtype float32 because it's dtype defaults to floatx.\n",
            "\n",
            "If you intended to run this layer in float32, you can safely ignore this warning. If in doubt, this warning is likely only an issue if you are porting a TensorFlow 1.X model to TensorFlow 2.\n",
            "\n",
            "To change all layers to have dtype float64 by default, call `tf.keras.backend.set_floatx('float64')`. To change just this layer, pass dtype='float64' to the layer constructor. If you are the author of this layer, you can disable autocasting by passing autocast=False to the base Layer constructor.\n",
            "\n",
            "INFO:tensorflow:Done calling model_fn.\n",
            "INFO:tensorflow:Graph was finalized.\n",
            "INFO:tensorflow:Restoring parameters from /tmp/tmp1gt76ah8/model.ckpt-200\n",
            "INFO:tensorflow:Running local_init_op.\n",
            "INFO:tensorflow:Done running local_init_op.\n"
          ],
          "name": "stdout"
        }
      ]
    },
    {
      "cell_type": "code",
      "metadata": {
        "id": "mQbRiEI5IwyI",
        "colab_type": "code",
        "colab": {}
      },
      "source": [
        "prob = []\n",
        "for r in result:  \n",
        "  prob.append(0 if r['probabilities'][0]>r['probabilities'][1] else 1)"
      ],
      "execution_count": 0,
      "outputs": []
    },
    {
      "cell_type": "code",
      "metadata": {
        "id": "tWf3ATOMPDHo",
        "colab_type": "code",
        "colab": {}
      },
      "source": [
        "data_test['prediction'] = prob"
      ],
      "execution_count": 0,
      "outputs": []
    },
    {
      "cell_type": "code",
      "metadata": {
        "id": "QSeenK34QwXn",
        "colab_type": "code",
        "colab": {}
      },
      "source": [
        "wrong_data = data_test[data_test['survived'] != data_test['prediction']]"
      ],
      "execution_count": 0,
      "outputs": []
    },
    {
      "cell_type": "code",
      "metadata": {
        "id": "VQ7LAB8ARkPk",
        "colab_type": "code",
        "outputId": "58be1cbe-7d0d-4f9e-df30-8f1dfa687c0f",
        "colab": {
          "base_uri": "https://localhost:8080/",
          "height": 72
        }
      },
      "source": [
        "wrong_data['survived'].value_counts()"
      ],
      "execution_count": 0,
      "outputs": [
        {
          "output_type": "execute_result",
          "data": {
            "text/plain": [
              "1    33\n",
              "0    29\n",
              "Name: survived, dtype: int64"
            ]
          },
          "metadata": {
            "tags": []
          },
          "execution_count": 60
        }
      ]
    },
    {
      "cell_type": "code",
      "metadata": {
        "id": "AhDVCFTMXr2T",
        "colab_type": "code",
        "colab": {}
      },
      "source": [
        ""
      ],
      "execution_count": 0,
      "outputs": []
    }
  ]
}