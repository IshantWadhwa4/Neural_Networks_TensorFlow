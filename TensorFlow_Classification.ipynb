{
  "nbformat": 4,
  "nbformat_minor": 0,
  "metadata": {
    "colab": {
      "name": "TensorFlow_Classification.ipynb",
      "provenance": [],
      "authorship_tag": "ABX9TyMSdpxVyzTfNDbnjEHf2q8F",
      "include_colab_link": true
    },
    "kernelspec": {
      "name": "python3",
      "display_name": "Python 3"
    }
  },
  "cells": [
    {
      "cell_type": "markdown",
      "metadata": {
        "id": "view-in-github",
        "colab_type": "text"
      },
      "source": [
        "<a href=\"https://colab.research.google.com/github/IshantWadhwa4/Neural_Networks_TensorFlow/blob/master/TensorFlow_Classification.ipynb\" target=\"_parent\"><img src=\"https://colab.research.google.com/assets/colab-badge.svg\" alt=\"Open In Colab\"/></a>"
      ]
    },
    {
      "cell_type": "markdown",
      "metadata": {
        "id": "Rhj_NfFd9sPB",
        "colab_type": "text"
      },
      "source": [
        "## Classification Using TF"
      ]
    },
    {
      "cell_type": "code",
      "metadata": {
        "id": "ZAtXzfQs9vhM",
        "colab_type": "code",
        "outputId": "5025e1a0-5c4a-4bfb-f498-f22c4ab5f6e0",
        "colab": {
          "base_uri": "https://localhost:8080/",
          "height": 35
        }
      },
      "source": [
        "%tensorflow_version 2.x \n",
        "import pandas as pd\n",
        "import tensorflow as tf\n",
        "tf.version"
      ],
      "execution_count": 0,
      "outputs": [
        {
          "output_type": "execute_result",
          "data": {
            "text/plain": [
              "<module 'tensorflow._api.v2.version' from '/usr/local/lib/python3.6/dist-packages/tensorflow/_api/v2/version/__init__.py'>"
            ]
          },
          "metadata": {
            "tags": []
          },
          "execution_count": 5
        }
      ]
    },
    {
      "cell_type": "code",
      "metadata": {
        "id": "OnkH6baw98Fe",
        "colab_type": "code",
        "colab": {}
      },
      "source": [
        "train_data = pd.read_csv('https://storage.googleapis.com/download.tensorflow.org/data/iris_training.csv')\n",
        "test_data = pd.read_csv('https://storage.googleapis.com/download.tensorflow.org/data/iris_test.csv')"
      ],
      "execution_count": 0,
      "outputs": []
    },
    {
      "cell_type": "code",
      "metadata": {
        "id": "ko6Uoo22-l9E",
        "colab_type": "code",
        "colab": {}
      },
      "source": [
        "train_data.columns =  ['SepalLength', 'SepalWidth', 'PetalLength', 'PetalWidth', 'Species']\n",
        "test_data.columns = ['SepalLength', 'SepalWidth', 'PetalLength', 'PetalWidth', 'Species']"
      ],
      "execution_count": 0,
      "outputs": []
    },
    {
      "cell_type": "code",
      "metadata": {
        "id": "n5MoHImp-qpl",
        "colab_type": "code",
        "colab": {}
      },
      "source": [
        "train_data_X = train_data.drop('Species',axis=1)\n",
        "train_data_y = train_data['Species']"
      ],
      "execution_count": 0,
      "outputs": []
    },
    {
      "cell_type": "code",
      "metadata": {
        "id": "tFhecohJAucZ",
        "colab_type": "code",
        "colab": {}
      },
      "source": [
        "test_data_X = test_data.drop('Species',axis=1)\n",
        "test_data_y = test_data['Species']"
      ],
      "execution_count": 0,
      "outputs": []
    },
    {
      "cell_type": "code",
      "metadata": {
        "id": "OwhI3tZsB8I3",
        "colab_type": "code",
        "colab": {}
      },
      "source": [
        "### Get Column information for model\n",
        "\n",
        "def get_numeric_data_columns(df):\n",
        "  '''\n",
        "      return list of all numeric data columns name\n",
        "  '''\n",
        "  return list(df._get_numeric_data().columns)\n",
        "\n",
        "\n",
        "def get_catagorical_data_columns(df):\n",
        "  '''\n",
        "      return list of all catagoric data columns name\n",
        "  '''\n",
        "  return list(set(df.columns) - set(df._get_numeric_data().columns))\n"
      ],
      "execution_count": 0,
      "outputs": []
    },
    {
      "cell_type": "code",
      "metadata": {
        "id": "C_uvi9_ACNax",
        "colab_type": "code",
        "colab": {}
      },
      "source": [
        "def get_featureInfo(df):\n",
        "  features_columns = []\n",
        "  for feature_name in get_catagorical_data_columns(df):\n",
        "    unique_variables = df[feature_name].unique()\n",
        "    features_columns.append(tf.feature_column.categorical_column_with_vocabulary_list(feature_name,unique_variables))\n",
        "  for feature_name in get_numeric_data_columns(df):\n",
        "    features_columns.append(tf.feature_column.numeric_column(feature_name, dtype=tf.float32))\n",
        "  return features_columns"
      ],
      "execution_count": 0,
      "outputs": []
    },
    {
      "cell_type": "code",
      "metadata": {
        "id": "Ia8fO6KDDPSv",
        "colab_type": "code",
        "colab": {}
      },
      "source": [
        "features_columns = get_featureInfo(train_data_X)"
      ],
      "execution_count": 0,
      "outputs": []
    },
    {
      "cell_type": "code",
      "metadata": {
        "id": "0EcPpjtHDcRs",
        "colab_type": "code",
        "colab": {}
      },
      "source": [
        "# This function is required for input train and test data for fiting in model\n",
        "\n",
        "def input_fn(features, labels, training=True, batch_size=256):\n",
        "    # Convert the inputs to a Dataset.\n",
        "    dataset = tf.data.Dataset.from_tensor_slices((dict(features), labels))\n",
        "\n",
        "    # Shuffle and repeat if you are in training mode.\n",
        "    if training:\n",
        "        dataset = dataset.shuffle(1000).repeat()\n",
        "    \n",
        "    return dataset.batch(batch_size)"
      ],
      "execution_count": 0,
      "outputs": []
    },
    {
      "cell_type": "code",
      "metadata": {
        "id": "FQ01Ov07EzUZ",
        "colab_type": "code",
        "outputId": "183c6aec-1529-4a08-f88a-7cd27fa92849",
        "colab": {
          "base_uri": "https://localhost:8080/",
          "height": 201
        }
      },
      "source": [
        "## DNN classifier\n",
        "\n",
        "classifier = tf.estimator.DNNClassifier(feature_columns=features_columns,hidden_units=[30,10],n_classes=3)"
      ],
      "execution_count": 0,
      "outputs": [
        {
          "output_type": "stream",
          "text": [
            "INFO:tensorflow:Using default config.\n",
            "WARNING:tensorflow:Using temporary folder as model directory: /tmp/tmpapi1914b\n",
            "INFO:tensorflow:Using config: {'_model_dir': '/tmp/tmpapi1914b', '_tf_random_seed': None, '_save_summary_steps': 100, '_save_checkpoints_steps': None, '_save_checkpoints_secs': 600, '_session_config': allow_soft_placement: true\n",
            "graph_options {\n",
            "  rewrite_options {\n",
            "    meta_optimizer_iterations: ONE\n",
            "  }\n",
            "}\n",
            ", '_keep_checkpoint_max': 5, '_keep_checkpoint_every_n_hours': 10000, '_log_step_count_steps': 100, '_train_distribute': None, '_device_fn': None, '_protocol': None, '_eval_distribute': None, '_experimental_distribute': None, '_experimental_max_worker_delay_secs': None, '_session_creation_timeout_secs': 7200, '_service': None, '_cluster_spec': ClusterSpec({}), '_task_type': 'worker', '_task_id': 0, '_global_id_in_cluster': 0, '_master': '', '_evaluation_master': '', '_is_chief': True, '_num_ps_replicas': 0, '_num_worker_replicas': 1}\n"
          ],
          "name": "stdout"
        }
      ]
    },
    {
      "cell_type": "code",
      "metadata": {
        "id": "U18dw8sZFZKB",
        "colab_type": "code",
        "outputId": "03026820-6237-4170-f579-9d8ca4660f86",
        "colab": {
          "base_uri": "https://localhost:8080/",
          "height": 1000
        }
      },
      "source": [
        "input_function = lambda:input_fn(train_data_X,train_data_y)\n",
        "classifier.train(input_function,steps=10000)"
      ],
      "execution_count": 0,
      "outputs": [
        {
          "output_type": "stream",
          "text": [
            "INFO:tensorflow:Calling model_fn.\n",
            "WARNING:tensorflow:Layer dnn is casting an input tensor from dtype float64 to the layer's dtype of float32, which is new behavior in TensorFlow 2.  The layer has dtype float32 because it's dtype defaults to floatx.\n",
            "\n",
            "If you intended to run this layer in float32, you can safely ignore this warning. If in doubt, this warning is likely only an issue if you are porting a TensorFlow 1.X model to TensorFlow 2.\n",
            "\n",
            "To change all layers to have dtype float64 by default, call `tf.keras.backend.set_floatx('float64')`. To change just this layer, pass dtype='float64' to the layer constructor. If you are the author of this layer, you can disable autocasting by passing autocast=False to the base Layer constructor.\n",
            "\n",
            "INFO:tensorflow:Done calling model_fn.\n",
            "INFO:tensorflow:Create CheckpointSaverHook.\n",
            "INFO:tensorflow:Graph was finalized.\n",
            "INFO:tensorflow:Restoring parameters from /tmp/tmpapi1914b/model.ckpt-1000\n",
            "WARNING:tensorflow:From /usr/local/lib/python3.6/dist-packages/tensorflow/python/training/saver.py:1077: get_checkpoint_mtimes (from tensorflow.python.training.checkpoint_management) is deprecated and will be removed in a future version.\n",
            "Instructions for updating:\n",
            "Use standard file utilities to get mtimes.\n",
            "INFO:tensorflow:Running local_init_op.\n",
            "INFO:tensorflow:Done running local_init_op.\n",
            "INFO:tensorflow:Calling checkpoint listeners before saving checkpoint 1000...\n",
            "INFO:tensorflow:Saving checkpoints for 1000 into /tmp/tmpapi1914b/model.ckpt.\n",
            "INFO:tensorflow:Calling checkpoint listeners after saving checkpoint 1000...\n",
            "INFO:tensorflow:loss = 0.757821, step = 1000\n",
            "INFO:tensorflow:global_step/sec: 489.247\n",
            "INFO:tensorflow:loss = 0.7171111, step = 1100 (0.208 sec)\n",
            "INFO:tensorflow:global_step/sec: 674.349\n",
            "INFO:tensorflow:loss = 0.7212132, step = 1200 (0.148 sec)\n",
            "INFO:tensorflow:global_step/sec: 671.106\n",
            "INFO:tensorflow:loss = 0.70326173, step = 1300 (0.149 sec)\n",
            "INFO:tensorflow:global_step/sec: 678.242\n",
            "INFO:tensorflow:loss = 0.69071585, step = 1400 (0.146 sec)\n",
            "INFO:tensorflow:global_step/sec: 671.422\n",
            "INFO:tensorflow:loss = 0.67973757, step = 1500 (0.150 sec)\n",
            "INFO:tensorflow:global_step/sec: 677.76\n",
            "INFO:tensorflow:loss = 0.67479265, step = 1600 (0.146 sec)\n",
            "INFO:tensorflow:global_step/sec: 673.275\n",
            "INFO:tensorflow:loss = 0.66998625, step = 1700 (0.150 sec)\n",
            "INFO:tensorflow:global_step/sec: 635.515\n",
            "INFO:tensorflow:loss = 0.65295625, step = 1800 (0.155 sec)\n",
            "INFO:tensorflow:global_step/sec: 680.997\n",
            "INFO:tensorflow:loss = 0.6472445, step = 1900 (0.149 sec)\n",
            "INFO:tensorflow:global_step/sec: 656.423\n",
            "INFO:tensorflow:loss = 0.62925947, step = 2000 (0.150 sec)\n",
            "INFO:tensorflow:global_step/sec: 613.835\n",
            "INFO:tensorflow:loss = 0.6219296, step = 2100 (0.163 sec)\n",
            "INFO:tensorflow:global_step/sec: 691.578\n",
            "INFO:tensorflow:loss = 0.6191828, step = 2200 (0.148 sec)\n",
            "INFO:tensorflow:global_step/sec: 664.236\n",
            "INFO:tensorflow:loss = 0.6307789, step = 2300 (0.148 sec)\n",
            "INFO:tensorflow:global_step/sec: 671.918\n",
            "INFO:tensorflow:loss = 0.6060138, step = 2400 (0.155 sec)\n",
            "INFO:tensorflow:global_step/sec: 644.004\n",
            "INFO:tensorflow:loss = 0.6123959, step = 2500 (0.149 sec)\n",
            "INFO:tensorflow:global_step/sec: 632.986\n",
            "INFO:tensorflow:loss = 0.6004646, step = 2600 (0.161 sec)\n",
            "INFO:tensorflow:global_step/sec: 645.862\n",
            "INFO:tensorflow:loss = 0.58959436, step = 2700 (0.152 sec)\n",
            "INFO:tensorflow:global_step/sec: 679.564\n",
            "INFO:tensorflow:loss = 0.58339083, step = 2800 (0.150 sec)\n",
            "INFO:tensorflow:global_step/sec: 672.76\n",
            "INFO:tensorflow:loss = 0.59413993, step = 2900 (0.149 sec)\n",
            "INFO:tensorflow:global_step/sec: 668.968\n",
            "INFO:tensorflow:loss = 0.5916937, step = 3000 (0.149 sec)\n",
            "INFO:tensorflow:global_step/sec: 651.907\n",
            "INFO:tensorflow:loss = 0.58152366, step = 3100 (0.153 sec)\n",
            "INFO:tensorflow:global_step/sec: 647.703\n",
            "INFO:tensorflow:loss = 0.5862981, step = 3200 (0.152 sec)\n",
            "INFO:tensorflow:global_step/sec: 676.26\n",
            "INFO:tensorflow:loss = 0.56957334, step = 3300 (0.150 sec)\n",
            "INFO:tensorflow:global_step/sec: 689.48\n",
            "INFO:tensorflow:loss = 0.55925876, step = 3400 (0.143 sec)\n",
            "INFO:tensorflow:global_step/sec: 665.617\n",
            "INFO:tensorflow:loss = 0.56419206, step = 3500 (0.153 sec)\n",
            "INFO:tensorflow:global_step/sec: 666.365\n",
            "INFO:tensorflow:loss = 0.5883795, step = 3600 (0.147 sec)\n",
            "INFO:tensorflow:global_step/sec: 661.219\n",
            "INFO:tensorflow:loss = 0.54912806, step = 3700 (0.152 sec)\n",
            "INFO:tensorflow:global_step/sec: 621.488\n",
            "INFO:tensorflow:loss = 0.55560154, step = 3800 (0.161 sec)\n",
            "INFO:tensorflow:global_step/sec: 627.75\n",
            "INFO:tensorflow:loss = 0.5400196, step = 3900 (0.161 sec)\n",
            "INFO:tensorflow:global_step/sec: 622.516\n",
            "INFO:tensorflow:loss = 0.5522145, step = 4000 (0.157 sec)\n",
            "INFO:tensorflow:global_step/sec: 614.901\n",
            "INFO:tensorflow:loss = 0.5490377, step = 4100 (0.163 sec)\n",
            "INFO:tensorflow:global_step/sec: 681.868\n",
            "INFO:tensorflow:loss = 0.54507226, step = 4200 (0.147 sec)\n",
            "INFO:tensorflow:global_step/sec: 639.446\n",
            "INFO:tensorflow:loss = 0.5341306, step = 4300 (0.158 sec)\n",
            "INFO:tensorflow:global_step/sec: 635.188\n",
            "INFO:tensorflow:loss = 0.5224349, step = 4400 (0.156 sec)\n",
            "INFO:tensorflow:global_step/sec: 580.075\n",
            "INFO:tensorflow:loss = 0.53021336, step = 4500 (0.172 sec)\n",
            "INFO:tensorflow:global_step/sec: 590.227\n",
            "INFO:tensorflow:loss = 0.52587056, step = 4600 (0.169 sec)\n",
            "INFO:tensorflow:global_step/sec: 626.167\n",
            "INFO:tensorflow:loss = 0.5181079, step = 4700 (0.162 sec)\n",
            "INFO:tensorflow:global_step/sec: 590.365\n",
            "INFO:tensorflow:loss = 0.5115308, step = 4800 (0.169 sec)\n",
            "INFO:tensorflow:global_step/sec: 652.414\n",
            "INFO:tensorflow:loss = 0.5191978, step = 4900 (0.154 sec)\n",
            "INFO:tensorflow:global_step/sec: 670.583\n",
            "INFO:tensorflow:loss = 0.50639683, step = 5000 (0.147 sec)\n",
            "INFO:tensorflow:global_step/sec: 633.912\n",
            "INFO:tensorflow:loss = 0.5176916, step = 5100 (0.161 sec)\n",
            "INFO:tensorflow:global_step/sec: 662.128\n",
            "INFO:tensorflow:loss = 0.51906693, step = 5200 (0.148 sec)\n",
            "INFO:tensorflow:global_step/sec: 675.444\n",
            "INFO:tensorflow:loss = 0.51572746, step = 5300 (0.149 sec)\n",
            "INFO:tensorflow:global_step/sec: 642.597\n",
            "INFO:tensorflow:loss = 0.5217501, step = 5400 (0.155 sec)\n",
            "INFO:tensorflow:global_step/sec: 671.842\n",
            "INFO:tensorflow:loss = 0.5034919, step = 5500 (0.151 sec)\n",
            "INFO:tensorflow:global_step/sec: 662.468\n",
            "INFO:tensorflow:loss = 0.4953161, step = 5600 (0.149 sec)\n",
            "INFO:tensorflow:global_step/sec: 606.571\n",
            "INFO:tensorflow:loss = 0.5201027, step = 5700 (0.165 sec)\n",
            "INFO:tensorflow:global_step/sec: 657.672\n",
            "INFO:tensorflow:loss = 0.49766153, step = 5800 (0.153 sec)\n",
            "INFO:tensorflow:global_step/sec: 664.571\n",
            "INFO:tensorflow:loss = 0.5148531, step = 5900 (0.150 sec)\n",
            "INFO:tensorflow:global_step/sec: 647.442\n",
            "INFO:tensorflow:loss = 0.48380715, step = 6000 (0.152 sec)\n",
            "INFO:tensorflow:global_step/sec: 676.096\n",
            "INFO:tensorflow:loss = 0.49380344, step = 6100 (0.148 sec)\n",
            "INFO:tensorflow:global_step/sec: 670.68\n",
            "INFO:tensorflow:loss = 0.4794464, step = 6200 (0.150 sec)\n",
            "INFO:tensorflow:global_step/sec: 628.07\n",
            "INFO:tensorflow:loss = 0.47536394, step = 6300 (0.162 sec)\n",
            "INFO:tensorflow:global_step/sec: 618.107\n",
            "INFO:tensorflow:loss = 0.4910975, step = 6400 (0.161 sec)\n",
            "INFO:tensorflow:global_step/sec: 585.387\n",
            "INFO:tensorflow:loss = 0.4891129, step = 6500 (0.168 sec)\n",
            "INFO:tensorflow:global_step/sec: 668.578\n",
            "INFO:tensorflow:loss = 0.5054114, step = 6600 (0.152 sec)\n",
            "INFO:tensorflow:global_step/sec: 678.01\n",
            "INFO:tensorflow:loss = 0.48580557, step = 6700 (0.145 sec)\n",
            "INFO:tensorflow:global_step/sec: 681.454\n",
            "INFO:tensorflow:loss = 0.46490294, step = 6800 (0.149 sec)\n",
            "INFO:tensorflow:global_step/sec: 657.772\n",
            "INFO:tensorflow:loss = 0.48315248, step = 6900 (0.151 sec)\n",
            "INFO:tensorflow:global_step/sec: 632.801\n",
            "INFO:tensorflow:loss = 0.47995126, step = 7000 (0.160 sec)\n",
            "INFO:tensorflow:global_step/sec: 653.579\n",
            "INFO:tensorflow:loss = 0.4625938, step = 7100 (0.150 sec)\n",
            "INFO:tensorflow:global_step/sec: 647.712\n",
            "INFO:tensorflow:loss = 0.4712953, step = 7200 (0.154 sec)\n",
            "INFO:tensorflow:global_step/sec: 670.873\n",
            "INFO:tensorflow:loss = 0.46690983, step = 7300 (0.152 sec)\n",
            "INFO:tensorflow:global_step/sec: 647.57\n",
            "INFO:tensorflow:loss = 0.4670124, step = 7400 (0.154 sec)\n",
            "INFO:tensorflow:global_step/sec: 674.28\n",
            "INFO:tensorflow:loss = 0.4641291, step = 7500 (0.147 sec)\n",
            "INFO:tensorflow:global_step/sec: 681.416\n",
            "INFO:tensorflow:loss = 0.46819147, step = 7600 (0.146 sec)\n",
            "INFO:tensorflow:global_step/sec: 659.384\n",
            "INFO:tensorflow:loss = 0.45454073, step = 7700 (0.152 sec)\n",
            "INFO:tensorflow:global_step/sec: 639.618\n",
            "INFO:tensorflow:loss = 0.4613436, step = 7800 (0.158 sec)\n",
            "INFO:tensorflow:global_step/sec: 623.064\n",
            "INFO:tensorflow:loss = 0.4614818, step = 7900 (0.159 sec)\n",
            "INFO:tensorflow:global_step/sec: 670.924\n",
            "INFO:tensorflow:loss = 0.45988375, step = 8000 (0.151 sec)\n",
            "INFO:tensorflow:global_step/sec: 651.002\n",
            "INFO:tensorflow:loss = 0.48055688, step = 8100 (0.152 sec)\n",
            "INFO:tensorflow:global_step/sec: 671.728\n",
            "INFO:tensorflow:loss = 0.45725176, step = 8200 (0.150 sec)\n",
            "INFO:tensorflow:global_step/sec: 621.227\n",
            "INFO:tensorflow:loss = 0.44885015, step = 8300 (0.162 sec)\n",
            "INFO:tensorflow:global_step/sec: 595.747\n",
            "INFO:tensorflow:loss = 0.4430021, step = 8400 (0.165 sec)\n",
            "INFO:tensorflow:global_step/sec: 670.229\n",
            "INFO:tensorflow:loss = 0.46235156, step = 8500 (0.150 sec)\n",
            "INFO:tensorflow:global_step/sec: 660.575\n",
            "INFO:tensorflow:loss = 0.44585097, step = 8600 (0.153 sec)\n",
            "INFO:tensorflow:global_step/sec: 657.619\n",
            "INFO:tensorflow:loss = 0.4653134, step = 8700 (0.152 sec)\n",
            "INFO:tensorflow:global_step/sec: 663.465\n",
            "INFO:tensorflow:loss = 0.45043916, step = 8800 (0.151 sec)\n",
            "INFO:tensorflow:global_step/sec: 655.158\n",
            "INFO:tensorflow:loss = 0.4484372, step = 8900 (0.152 sec)\n",
            "INFO:tensorflow:global_step/sec: 632.324\n",
            "INFO:tensorflow:loss = 0.44942728, step = 9000 (0.158 sec)\n",
            "INFO:tensorflow:global_step/sec: 666.589\n",
            "INFO:tensorflow:loss = 0.44710723, step = 9100 (0.150 sec)\n",
            "INFO:tensorflow:global_step/sec: 647.85\n",
            "INFO:tensorflow:loss = 0.4357734, step = 9200 (0.152 sec)\n",
            "INFO:tensorflow:global_step/sec: 601.317\n",
            "INFO:tensorflow:loss = 0.4631786, step = 9300 (0.169 sec)\n",
            "INFO:tensorflow:global_step/sec: 627.53\n",
            "INFO:tensorflow:loss = 0.44107425, step = 9400 (0.157 sec)\n",
            "INFO:tensorflow:global_step/sec: 653.26\n",
            "INFO:tensorflow:loss = 0.44926623, step = 9500 (0.159 sec)\n",
            "INFO:tensorflow:global_step/sec: 607.741\n",
            "INFO:tensorflow:loss = 0.43045047, step = 9600 (0.159 sec)\n",
            "INFO:tensorflow:global_step/sec: 647.585\n",
            "INFO:tensorflow:loss = 0.43480057, step = 9700 (0.157 sec)\n",
            "INFO:tensorflow:global_step/sec: 667.73\n",
            "INFO:tensorflow:loss = 0.45121515, step = 9800 (0.149 sec)\n",
            "INFO:tensorflow:global_step/sec: 654.985\n",
            "INFO:tensorflow:loss = 0.43521583, step = 9900 (0.153 sec)\n",
            "INFO:tensorflow:global_step/sec: 669.338\n",
            "INFO:tensorflow:loss = 0.4329803, step = 10000 (0.147 sec)\n",
            "INFO:tensorflow:global_step/sec: 662.557\n",
            "INFO:tensorflow:loss = 0.42586732, step = 10100 (0.151 sec)\n",
            "INFO:tensorflow:global_step/sec: 664.981\n",
            "INFO:tensorflow:loss = 0.4493143, step = 10200 (0.150 sec)\n",
            "INFO:tensorflow:global_step/sec: 628.013\n",
            "INFO:tensorflow:loss = 0.43777454, step = 10300 (0.160 sec)\n",
            "INFO:tensorflow:global_step/sec: 635.104\n",
            "INFO:tensorflow:loss = 0.42778668, step = 10400 (0.157 sec)\n",
            "INFO:tensorflow:global_step/sec: 677.729\n",
            "INFO:tensorflow:loss = 0.4328182, step = 10500 (0.150 sec)\n",
            "INFO:tensorflow:global_step/sec: 666.521\n",
            "INFO:tensorflow:loss = 0.43220246, step = 10600 (0.148 sec)\n",
            "INFO:tensorflow:global_step/sec: 654.319\n",
            "INFO:tensorflow:loss = 0.4159283, step = 10700 (0.155 sec)\n",
            "INFO:tensorflow:global_step/sec: 638.275\n",
            "INFO:tensorflow:loss = 0.41751653, step = 10800 (0.156 sec)\n",
            "INFO:tensorflow:global_step/sec: 662.458\n",
            "INFO:tensorflow:loss = 0.42363858, step = 10900 (0.150 sec)\n",
            "INFO:tensorflow:Calling checkpoint listeners before saving checkpoint 11000...\n",
            "INFO:tensorflow:Saving checkpoints for 11000 into /tmp/tmpapi1914b/model.ckpt.\n",
            "INFO:tensorflow:Calling checkpoint listeners after saving checkpoint 11000...\n",
            "INFO:tensorflow:Loss for final step: 0.42541987.\n"
          ],
          "name": "stdout"
        },
        {
          "output_type": "execute_result",
          "data": {
            "text/plain": [
              "<tensorflow_estimator.python.estimator.canned.dnn.DNNClassifierV2 at 0x7f37751f8cf8>"
            ]
          },
          "metadata": {
            "tags": []
          },
          "execution_count": 28
        }
      ]
    },
    {
      "cell_type": "code",
      "metadata": {
        "id": "mJ2qPwCqNVKL",
        "colab_type": "code",
        "outputId": "e1684b01-e6a9-4f6f-b165-2a2e85b51fa9",
        "colab": {
          "base_uri": "https://localhost:8080/",
          "height": 346
        }
      },
      "source": [
        "result = classifier.evaluate(lambda:input_fn(test_data_X,test_data_y,training=False))"
      ],
      "execution_count": 0,
      "outputs": [
        {
          "output_type": "stream",
          "text": [
            "INFO:tensorflow:Calling model_fn.\n",
            "WARNING:tensorflow:Layer dnn is casting an input tensor from dtype float64 to the layer's dtype of float32, which is new behavior in TensorFlow 2.  The layer has dtype float32 because it's dtype defaults to floatx.\n",
            "\n",
            "If you intended to run this layer in float32, you can safely ignore this warning. If in doubt, this warning is likely only an issue if you are porting a TensorFlow 1.X model to TensorFlow 2.\n",
            "\n",
            "To change all layers to have dtype float64 by default, call `tf.keras.backend.set_floatx('float64')`. To change just this layer, pass dtype='float64' to the layer constructor. If you are the author of this layer, you can disable autocasting by passing autocast=False to the base Layer constructor.\n",
            "\n",
            "INFO:tensorflow:Done calling model_fn.\n",
            "INFO:tensorflow:Starting evaluation at 2020-05-06T09:00:39Z\n",
            "INFO:tensorflow:Graph was finalized.\n",
            "INFO:tensorflow:Restoring parameters from /tmp/tmpapi1914b/model.ckpt-11000\n",
            "INFO:tensorflow:Running local_init_op.\n",
            "INFO:tensorflow:Done running local_init_op.\n",
            "INFO:tensorflow:Inference Time : 0.21799s\n",
            "INFO:tensorflow:Finished evaluation at 2020-05-06-09:00:39\n",
            "INFO:tensorflow:Saving dict for global step 11000: accuracy = 0.6, average_loss = 0.51943076, global_step = 11000, loss = 0.51943076\n",
            "INFO:tensorflow:Saving 'checkpoint_path' summary for global step 11000: /tmp/tmpapi1914b/model.ckpt-11000\n"
          ],
          "name": "stdout"
        }
      ]
    },
    {
      "cell_type": "code",
      "metadata": {
        "id": "rK1iIzwrNkqo",
        "colab_type": "code",
        "outputId": "5542a46d-d70e-4059-8b28-a97b0331953c",
        "colab": {
          "base_uri": "https://localhost:8080/",
          "height": 90
        }
      },
      "source": [
        "result"
      ],
      "execution_count": 0,
      "outputs": [
        {
          "output_type": "execute_result",
          "data": {
            "text/plain": [
              "{'accuracy': 0.6,\n",
              " 'average_loss': 0.51943076,\n",
              " 'global_step': 11000,\n",
              " 'loss': 0.51943076}"
            ]
          },
          "metadata": {
            "tags": []
          },
          "execution_count": 30
        }
      ]
    },
    {
      "cell_type": "code",
      "metadata": {
        "id": "1F9whqyGNrBO",
        "colab_type": "code",
        "outputId": "718cd084-2d75-4d05-a50c-1ad6b30ff7e9",
        "colab": {
          "base_uri": "https://localhost:8080/",
          "height": 108
        }
      },
      "source": [
        "print(\"Enter the value of each parameter for prediction:\")\n",
        "user_input_data = {}\n",
        "for col in test_data_X.columns:\n",
        "  val = input(\"Value for {} :\".format(col))\n",
        "  user_input_data[col] = [float(val)]\n"
      ],
      "execution_count": 0,
      "outputs": [
        {
          "output_type": "stream",
          "text": [
            "Enter the value of each parameter for prediction:\n",
            "Value for SepalLength :2.2\n",
            "Value for SepalWidth :3.4\n",
            "Value for PetalLength :5.4\n",
            "Value for PetalWidth :1.2\n"
          ],
          "name": "stdout"
        }
      ]
    },
    {
      "cell_type": "code",
      "metadata": {
        "id": "hKXTT90JmTDo",
        "colab_type": "code",
        "colab": {}
      },
      "source": [
        "def input_fn(features, batch_size=256):\n",
        "    # Convert the inputs to a Dataset without labels.\n",
        "    return tf.data.Dataset.from_tensor_slices(features).batch(batch_size)"
      ],
      "execution_count": 0,
      "outputs": []
    },
    {
      "cell_type": "code",
      "metadata": {
        "id": "AW6uHMZio2cD",
        "colab_type": "code",
        "outputId": "6c171a80-c90f-44c6-98b0-d1105fb7943f",
        "colab": {
          "base_uri": "https://localhost:8080/",
          "height": 126
        }
      },
      "source": [
        "result = list(classifier.predict(lambda:input_fn(user_input_data)))"
      ],
      "execution_count": 0,
      "outputs": [
        {
          "output_type": "stream",
          "text": [
            "INFO:tensorflow:Calling model_fn.\n",
            "INFO:tensorflow:Done calling model_fn.\n",
            "INFO:tensorflow:Graph was finalized.\n",
            "INFO:tensorflow:Restoring parameters from /tmp/tmpapi1914b/model.ckpt-11000\n",
            "INFO:tensorflow:Running local_init_op.\n",
            "INFO:tensorflow:Done running local_init_op.\n"
          ],
          "name": "stdout"
        }
      ]
    },
    {
      "cell_type": "code",
      "metadata": {
        "id": "DydvVVeatyg-",
        "colab_type": "code",
        "colab": {}
      },
      "source": [
        "for pred_dict in result:\n",
        "    class_id = pred_dict['class_ids'][0]\n",
        "    probability = pred_dict['probabilities'][class_id]"
      ],
      "execution_count": 0,
      "outputs": []
    },
    {
      "cell_type": "code",
      "metadata": {
        "id": "Ue7HX5-4uIQX",
        "colab_type": "code",
        "outputId": "e39c6011-7733-4075-a51f-afce221245d3",
        "colab": {
          "base_uri": "https://localhost:8080/",
          "height": 35
        }
      },
      "source": [
        "probability"
      ],
      "execution_count": 0,
      "outputs": [
        {
          "output_type": "execute_result",
          "data": {
            "text/plain": [
              "0.5372204"
            ]
          },
          "metadata": {
            "tags": []
          },
          "execution_count": 66
        }
      ]
    },
    {
      "cell_type": "code",
      "metadata": {
        "id": "tchs7INfuLdh",
        "colab_type": "code",
        "outputId": "9e306071-c268-48b5-964e-fab4a347b66b",
        "colab": {
          "base_uri": "https://localhost:8080/",
          "height": 35
        }
      },
      "source": [
        "class_id"
      ],
      "execution_count": 0,
      "outputs": [
        {
          "output_type": "execute_result",
          "data": {
            "text/plain": [
              "2"
            ]
          },
          "metadata": {
            "tags": []
          },
          "execution_count": 67
        }
      ]
    },
    {
      "cell_type": "code",
      "metadata": {
        "id": "Rkf8A04uwDh0",
        "colab_type": "code",
        "outputId": "57aa154e-41f1-4392-da35-1eb448dde7d8",
        "colab": {
          "base_uri": "https://localhost:8080/",
          "height": 35
        }
      },
      "source": [
        "SPECIES = ['Setosa', 'Versicolor', 'Virginica']\n",
        "print('Prediction is \"{}\" ({:.1f}%)'.format(SPECIES[class_id], 100 * probability))"
      ],
      "execution_count": 0,
      "outputs": [
        {
          "output_type": "stream",
          "text": [
            "Prediction is \"Virginica\" (53.7%)\n"
          ],
          "name": "stdout"
        }
      ]
    },
    {
      "cell_type": "code",
      "metadata": {
        "id": "fMtTr2q9wPB-",
        "colab_type": "code",
        "colab": {}
      },
      "source": [
        "# Here is some example input and expected classes you can try above\n",
        "expected = ['Setosa', 'Versicolor', 'Virginica']\n",
        "predict_x = {\n",
        "    'SepalLength': [5.1, 5.9, 6.9],\n",
        "    'SepalWidth': [3.3, 3.0, 3.1],\n",
        "    'PetalLength': [1.7, 4.2, 5.4],\n",
        "    'PetalWidth': [0.5, 1.5, 2.1],\n",
        "}"
      ],
      "execution_count": 0,
      "outputs": []
    },
    {
      "cell_type": "code",
      "metadata": {
        "id": "o0nDF1qHx_Y5",
        "colab_type": "code",
        "outputId": "e0618426-4bba-49ed-87c9-971beee17344",
        "colab": {
          "base_uri": "https://localhost:8080/",
          "height": 126
        }
      },
      "source": [
        "result = list(classifier.predict(lambda:input_fn(predict_x)))"
      ],
      "execution_count": 0,
      "outputs": [
        {
          "output_type": "stream",
          "text": [
            "INFO:tensorflow:Calling model_fn.\n",
            "INFO:tensorflow:Done calling model_fn.\n",
            "INFO:tensorflow:Graph was finalized.\n",
            "INFO:tensorflow:Restoring parameters from /tmp/tmpapi1914b/model.ckpt-11000\n",
            "INFO:tensorflow:Running local_init_op.\n",
            "INFO:tensorflow:Done running local_init_op.\n"
          ],
          "name": "stdout"
        }
      ]
    },
    {
      "cell_type": "code",
      "metadata": {
        "id": "apNFs2FcyFWI",
        "colab_type": "code",
        "outputId": "19c5d03d-d28a-4086-a490-f230027a15a0",
        "colab": {
          "base_uri": "https://localhost:8080/",
          "height": 72
        }
      },
      "source": [
        "for pred_dict in result:\n",
        "    class_id = pred_dict['class_ids'][0]\n",
        "    probability = pred_dict['probabilities'][class_id]\n",
        "    print('Prediction is \"{}\" ({:.1f}%)'.format(SPECIES[class_id], 100 * probability))"
      ],
      "execution_count": 0,
      "outputs": [
        {
          "output_type": "stream",
          "text": [
            "Prediction is \"Setosa\" (96.6%)\n",
            "Prediction is \"Virginica\" (49.4%)\n",
            "Prediction is \"Virginica\" (60.3%)\n"
          ],
          "name": "stdout"
        }
      ]
    },
    {
      "cell_type": "code",
      "metadata": {
        "id": "rBB3hKFHyNeq",
        "colab_type": "code",
        "colab": {}
      },
      "source": [
        ""
      ],
      "execution_count": 0,
      "outputs": []
    }
  ]
}